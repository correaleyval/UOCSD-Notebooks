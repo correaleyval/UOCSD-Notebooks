{
 "cells": [
  {
   "cell_type": "markdown",
   "metadata": {},
   "source": [
    "## Personas que deberías conocer\n",
    "\n",
    "El vicepresindente de \"fraternización\" quiere animar a que hallan más conexiones entre los miembros de la red y te pide que diseñes un \"suggester\".\n",
    "\n",
    "El primer instinto es sugerir a los amigos de los amigos. Estos son fáciles de calcular: para cada uno de los amigos del usuario, iterar sobre los amigos de esa persona, y recoger todos los resultados"
   ]
  },
  {
   "cell_type": "code",
   "execution_count": 40,
   "metadata": {},
   "outputs": [],
   "source": [
    "# Usuarios\n",
    "\n",
    "users = [\n",
    "    {\"id\": 0, \"name\": \"Hero\"},\n",
    "    {\"id\": 1, \"name\": \"Dunn\"},\n",
    "    {\"id\": 2, \"name\": \"Sue\"},\n",
    "    {\"id\": 3, \"name\": \"Chi\"},\n",
    "    {\"id\": 4, \"name\": \"Thor\"},\n",
    "    {\"id\": 5, \"name\": \"Clive\"},\n",
    "    {\"id\": 6, \"name\": \"Hicks\"},\n",
    "    {\"id\": 7, \"name\": \"Devin\"},\n",
    "    {\"id\": 8, \"name\": \"Kate\"},\n",
    "    {\"id\": 9, \"name\": \"Klein\"},\n",
    "]"
   ]
  },
  {
   "cell_type": "code",
   "execution_count": 41,
   "metadata": {},
   "outputs": [],
   "source": [
    "# Friendships\n",
    "\n",
    "friendships = [(0, 1), (0, 2), (1, 2), (1, 3), (2, 3), (3, 4),\n",
    "               (4, 5), (5, 6), (5, 7), (6, 8), (7, 8), (8, 9)]"
   ]
  },
  {
   "cell_type": "code",
   "execution_count": 42,
   "metadata": {},
   "outputs": [],
   "source": [
    "for user in users:        # para cada user en users\n",
    "    user[\"friends\"] = []  # crear propiedad friends como una lista vacía"
   ]
  },
  {
   "cell_type": "code",
   "execution_count": 43,
   "metadata": {},
   "outputs": [],
   "source": [
    "for i, j in friendships:\n",
    "    # users[i] es el usuario que su id es i\n",
    "    users[i][\"friends\"].append(users[j]) # agregar j como amigo de i\n",
    "    users[j][\"friends\"].append(users[i])  # agregar i como amigo de j"
   ]
  },
  {
   "cell_type": "code",
   "execution_count": 44,
   "metadata": {},
   "outputs": [],
   "source": [
    "def friends_of_friends(user):\n",
    "    # foaf es el abreviado de \"friend of a friend\"\n",
    "    return [\n",
    "        foaf[\"id\"]\n",
    "        for friend in user[\"friends\"] # para cada amigo de user\n",
    "        for foaf in friend[\"friends\"] # obtener sus amigos\n",
    "    ]"
   ]
  },
  {
   "cell_type": "markdown",
   "metadata": {},
   "source": [
    "Con este código estamos obteniendo los id de los amigos de los amigos de cada usuario, una vez más se emplea la \"manera declarativa\" de crear una lista en Python. (Tuve que copiar todo el código de la lista de usuarios y la creacion de la lista de amigos para que funcionara correctamente el código nuevo, el objetivo de estos Notebooks es que sean eso Notebooks donde se puede correr el código y que funcione)"
   ]
  },
  {
   "cell_type": "code",
   "execution_count": 45,
   "metadata": {},
   "outputs": [
    {
     "data": {
      "text/plain": [
       "[0, 2, 3, 0, 1, 3]"
      ]
     },
     "execution_count": 45,
     "metadata": {},
     "output_type": "execute_result"
    }
   ],
   "source": [
    "friends_of_friends(users[0])"
   ]
  },
  {
   "cell_type": "markdown",
   "metadata": {},
   "source": [
    "Hemos llamado a la función que hemos creado para saber quienes son los amigos de los amigos de Hero (id 0) y nos ha devuelto una lista. La cual contiene el 0 dos veces, ya que de hecho Hero es amigo de sus dos amigos. Incluye ademas los usuarios 1 y 2, a pesar de que ya son amigos de Hero e incluye al usuario Chi (id 3) dos veces, porque Chi es accesible a través de dos amigos diferentes\n",
    "\n",
    "<img align=\"center\" style=\"padding:10px;\" src=\"img/fig1.1.png\">"
   ]
  },
  {
   "cell_type": "code",
   "execution_count": 46,
   "metadata": {},
   "outputs": [
    {
     "name": "stdout",
     "output_type": "stream",
     "text": [
      "[1, 2]\n",
      "[0, 2, 3]\n",
      "[0, 1, 3]\n"
     ]
    }
   ],
   "source": [
    "print([friend[\"id\"] for friend in users[0][\"friends\"]])\n",
    "print([friend[\"id\"] for friend in users[1][\"friends\"]])\n",
    "print([friend[\"id\"] for friend in users[2][\"friends\"]])"
   ]
  },
  {
   "cell_type": "markdown",
   "metadata": {},
   "source": [
    "Sabiendo que las personas son amigos-de-amigos en múltiples formas, tal vez deberíamos crear un contador para amigos en común. Y sin duda deberíamos crear una función auxiliar para excluir a las personas producidas ya conocidas por el usuario"
   ]
  },
  {
   "cell_type": "code",
   "execution_count": 47,
   "metadata": {},
   "outputs": [],
   "source": [
    "from collections import Counter\n",
    "\n",
    "def not_the_same(user, other_user):  # no es el mismo\n",
    "    \"\"\"dos usuarios no son el mismo si ambos tienen distintos ids\"\"\"\n",
    "    return user[\"id\"] != other_user[\"id\"]\n",
    "\n",
    "def not_friends(user, other_user):  # no son amigos\n",
    "    \"\"\"other_user no es amigo sino se encuentra en user[\"friends\"] \n",
    "    es decir si  no es el mismo para todos los que se encuentran en la lista\"\"\"\n",
    "    \n",
    "    return all(not_the_same(friend, other_user) for friend in user[\"friends\"])\n",
    "\n",
    "def friends_of_friends(user):\n",
    "    return Counter(\n",
    "        foaf[\"id\"]\n",
    "        for friend in user[\"friends\"]\n",
    "        for foaf in friend[\"friends\"]\n",
    "        if not_the_same(user, foaf)\n",
    "        and not_friends(user, foaf)\n",
    "    )"
   ]
  },
  {
   "cell_type": "markdown",
   "metadata": {},
   "source": [
    "Analisemos rapidamente este codigo solo para las nuevas funciones que han sido incluidas:\n",
    "\n",
    "El método all() retorna:\n",
    "\n",
    "    True - si todos los elementos evaluados son True\n",
    "    False - Si algún elemento evaluado es False\n",
    "\n",
    "Counter se encuentra en la lib collections por tanto lo importamos, en resumen lo que hace es dado una lista devolvernos un diccionario con los elementos de la lista y su frecuencia, o sea la cantidad de veces que se repiten."
   ]
  },
  {
   "cell_type": "code",
   "execution_count": 49,
   "metadata": {},
   "outputs": [
    {
     "name": "stdout",
     "output_type": "stream",
     "text": [
      "Counter({3: 2})\n"
     ]
    }
   ],
   "source": [
    "print(friends_of_friends(users[0]))"
   ]
  },
  {
   "cell_type": "code",
   "execution_count": 50,
   "metadata": {},
   "outputs": [
    {
     "name": "stdout",
     "output_type": "stream",
     "text": [
      "Counter({0: 2, 5: 1})\n"
     ]
    }
   ],
   "source": [
    "print(friends_of_friends(users[3]))"
   ]
  }
 ],
 "metadata": {
  "kernelspec": {
   "display_name": "Python 3",
   "language": "python",
   "name": "python3"
  },
  "language_info": {
   "codemirror_mode": {
    "name": "ipython",
    "version": 3
   },
   "file_extension": ".py",
   "mimetype": "text/x-python",
   "name": "python",
   "nbconvert_exporter": "python",
   "pygments_lexer": "ipython3",
   "version": "3.5.2"
  }
 },
 "nbformat": 4,
 "nbformat_minor": 2
}
