{
 "cells": [
  {
   "cell_type": "markdown",
   "metadata": {},
   "source": [
    "## EJEMPLO HIPOTETICO: DATASCIENCESTER\n",
    "\n",
    "<b>DataSciencester</b> es una red social para cientificos de datos y usted ha sido contratado para trabajar en ella. A pesar de que DataSciencester es para cientificos de datos, esta red nunca a invertido esfuerzos en la investigacion de sus propios datos.\n",
    "\n",
    "Ese sera tu trabajo! Vamos a aprender acerca de los conceptos de ciencias de datos mediante la resolución de los problemas que encuentre en el trabajo. A veces vamos a ver datos suministrados por los usuarios de forma explícita, a veces vamos a ver los datos generados a través de sus interacciones con el sitio, ya veces incluso vamos a mirar los datos de los experimentos que diseñaremos.\n",
    "\n",
    "Vamos a construir nuestras propias herramientas desde cero. Al final, tendrá un conocimiento muy sólido de los fundamentos de la ciencia de datos. Y usted estará listo para aplicar sus habilidades en una empresa con una premisa menos inestable, o para cualquier otro problema que sea de su interés."
   ]
  },
  {
   "cell_type": "markdown",
   "metadata": {},
   "source": [
    "### BUSCANDO CONECTORES CLAVES\n",
    "\n",
    "Es tu primer día de trabajo en DataSciencester, y el vicepresidente de Redes está lleno de preguntas acerca de sus usuarios. Hasta ahora han tenido a nadie a quien preguntar, así que estan muy emocionados de tenerte con ellos.\n",
    "\n",
    "En particular, quieren que identifiques quiénes son los <b>conectores clave</b> los científicos de datos. Para lograr este fin, se te entrega un volcado de toda la red DataSciencester. (En la vida real, la gente no suele entregar los datos que se necesitan. Mas adelante dedicaremos tiempo a la extraccion de datos).\n",
    "\n",
    "El volcado de datos consiste en una lista de usuarios, cada uno representado por un diccionario que contiene para cada usuario su numero de identidad y nombre:"
   ]
  },
  {
   "cell_type": "code",
   "execution_count": 1,
   "metadata": {},
   "outputs": [],
   "source": [
    "# Usuarios\n",
    "\n",
    "users = [\n",
    "    {\"id\": 0, \"name\": \"Hero\"},\n",
    "    {\"id\": 1, \"name\": \"Dunn\"},\n",
    "    {\"id\": 2, \"name\": \"Sue\"},\n",
    "    {\"id\": 3, \"name\": \"Chi\"},\n",
    "    {\"id\": 4, \"name\": \"Thor\"},\n",
    "    {\"id\": 5, \"name\": \"Clive\"},\n",
    "    {\"id\": 6, \"name\": \"Hicks\"},\n",
    "    {\"id\": 7, \"name\": \"Devin\"},\n",
    "    {\"id\": 8, \"name\": \"Kate\"},\n",
    "    {\"id\": 9, \"name\": \"Klein\"},\n",
    "]"
   ]
  },
  {
   "cell_type": "markdown",
   "metadata": {},
   "source": [
    "También te dan los datos de “relaciones de amistad”, representados como una lista de pares de identificadores:"
   ]
  },
  {
   "cell_type": "code",
   "execution_count": 2,
   "metadata": {},
   "outputs": [],
   "source": [
    "# Friendships\n",
    "\n",
    "friendships = [(0, 1), (0, 2), (1, 2), (1, 3), (2, 3), (3, 4),\n",
    "               (4, 5), (5, 6), (5, 7), (6, 8), (7, 8), (8, 9)]"
   ]
  },
  {
   "cell_type": "markdown",
   "metadata": {},
   "source": [
    "La red formada se ilustra en la figura:\n",
    "\n",
    "<img align=\"center\" style=\"padding:10px;\" src=\"img/fig1.1.png\">"
   ]
  },
  {
   "cell_type": "markdown",
   "metadata": {},
   "source": [
    "Dado que hemos representado nuestros usuarios como un diccionario es fácil obtener datos adicionales.\n",
    "\n",
    "Por ejemplo es posible que desee agragar una lista de amigos para cada usuario. Primero establecemos la propiedad <b>friends</b> para cada usuario como una lista vacía."
   ]
  },
  {
   "cell_type": "code",
   "execution_count": 3,
   "metadata": {},
   "outputs": [],
   "source": [
    "for user in users:        # para cada user en users\n",
    "    user[\"friends\"] = []  # crear propiedad friends como una lista vacía"
   ]
  },
  {
   "cell_type": "markdown",
   "metadata": {},
   "source": [
    "Analicemos este código:\n",
    "\n",
    "<code>users</code> es una lista de usuarios, y cada usuario es un diccionario, un diccionario en python es una estructura que permite representar datos como un conjunto de pares (clave, valor). En nuestro caso cada usuario tiene una clave o propiedad <b>id</b> y una propiedad <b>name</b>\n",
    "\n",
    "Lo que estamos haciendo con este fragmento de código es recorrer la lista de usuarios y a cada usuario establecerle una nueva propiedad llamada <b>friends</b>, que será inicialmente una lista vacía."
   ]
  },
  {
   "cell_type": "markdown",
   "metadata": {},
   "source": [
    "Ahora rellenamos las listas de amigos utilizando los datos que tenemos en <code>friendships</code>"
   ]
  },
  {
   "cell_type": "code",
   "execution_count": 4,
   "metadata": {},
   "outputs": [],
   "source": [
    "for i, j in friendships:\n",
    "    # users[i] es el usuario que su id es i\n",
    "    users[i][\"friends\"].append(users[j]) # agregar j como amigo de i\n",
    "    users[j][\"friends\"].append(users[i])  # agregar i como amigo de j"
   ]
  },
  {
   "cell_type": "markdown",
   "metadata": {},
   "source": [
    "Análisis del codigo:\n",
    "\n",
    "<code>friendships</code> es una lista que contiene elementos de este tipo (a, b), donde a y b son identificadores de los usuarios que se encuentran en la lista <code>users</code>. Lo que estamos haciendo con la primera línea es obtener los identificadores de cada uno de los elementos almacenados en <code>friendships</code>, estos identificadores (id) son almacenados en la variables i, j respectivamente. Recordemos que cada elemento de la lista <code>friendships</code> contiene dos identificadores. Entonce que representa esto? Esto representa que los usuarios con identificador <i>i</i> e identificador <i>j</i> son amigos. Lo que sucede en este ejemplo es que el identificador de cada usuario coincide con el indice del usuario en la lista <code>users</code> por tanto aprovechamos esto para hacer referencia al usuario. Finalmente agregamos a <i>j</i> a la lista de amigos de <i>i</i> y viceversa, porque las relaciones de amistad son bidireccionales (en la vida real no siempre es así, pero estamos hablando a nivel de relaciones matemáticas, ;-))."
   ]
  },
  {
   "cell_type": "markdown",
   "metadata": {},
   "source": [
    "Una vez que cada uno de nuestros usuarios contiene una lista de amigos podemos hacer facilmente preguntas a nuestro gráfico como por ejemplo: \n",
    "\n",
    "<b>Cuál es el número promedio de conexiones?</b>\n",
    "\n",
    "Primero podemos encontrar el número total de conexiones realizando la suma de las longitudes de todas las listas de amigos."
   ]
  },
  {
   "cell_type": "code",
   "execution_count": 5,
   "metadata": {},
   "outputs": [
    {
     "name": "stdout",
     "output_type": "stream",
     "text": [
      "Total de conexiones: 24\n"
     ]
    }
   ],
   "source": [
    "def number_of_friends(user):\n",
    "    \"\"\"cuántos usuarios tiene _user_?\"\"\"\n",
    "    return len(user[\"friends\"])\n",
    "\n",
    "total_connections = sum(number_of_friends(user) for user in users)\n",
    "\n",
    "print(\"Total de conexiones: {}\".format(total_connections))"
   ]
  },
  {
   "cell_type": "markdown",
   "metadata": {},
   "source": [
    "Obtenemos un total de 24 conexiones, lo cual coincide con la cantidad de aristas representadas en el grafo de la red multiplicadas por dos ya que la conexion es bidireccional. La función <code>sum</code> en este caso lo que hace es aplicar la función <code>number_of_friends</code> para cada uno de los elementos que recorre el ciclo <code>for</code> de esta manera obtenemos el total de amigos que tiene cada usuario y sumamos los valores que va devolviendo la función <code>number_of_friends</code>."
   ]
  },
  {
   "cell_type": "markdown",
   "metadata": {},
   "source": [
    "Ahora solo tenemos que dividir el total de conexiones entre la cantidad de usuarios."
   ]
  },
  {
   "cell_type": "code",
   "execution_count": 6,
   "metadata": {},
   "outputs": [
    {
     "name": "stdout",
     "output_type": "stream",
     "text": [
      "Cantidad de usuarios: 10\n",
      "Número promedio de conexiones: 2.4\n"
     ]
    }
   ],
   "source": [
    "num_users = len(users) # longitud de la lista de usuarios\n",
    "\n",
    "print(\"Cantidad de usuarios: {}\".format(num_users))\n",
    "\n",
    "avg_connections = total_connections / num_users\n",
    "\n",
    "print(\"Número promedio de conexiones: {}\".format(avg_connections))"
   ]
  },
  {
   "cell_type": "markdown",
   "metadata": {},
   "source": [
    "También es fácil encontrar a las personas más conectadas: son las personas que tienen el mayor número de amigos.\n",
    "\n",
    "Como tenemos pocos usuarios podremos ordenarlos de mayor a menor teniendo en cuenta la cantidad de amigos:"
   ]
  },
  {
   "cell_type": "code",
   "execution_count": 7,
   "metadata": {},
   "outputs": [
    {
     "data": {
      "text/plain": [
       "[(1, 3),\n",
       " (2, 3),\n",
       " (3, 3),\n",
       " (5, 3),\n",
       " (8, 3),\n",
       " (0, 2),\n",
       " (4, 2),\n",
       " (6, 2),\n",
       " (7, 2),\n",
       " (9, 1)]"
      ]
     },
     "execution_count": 7,
     "metadata": {},
     "output_type": "execute_result"
    }
   ],
   "source": [
    "# crear lista (user_id, number_of_friends)\n",
    "\n",
    "num_friends_by_id = [(user[\"id\"], number_of_friends(user)) for user in users]\n",
    "\n",
    "sorted(num_friends_by_id, key=lambda user: user[1], reverse=True)"
   ]
  },
  {
   "cell_type": "markdown",
   "metadata": {},
   "source": [
    "Perfecto ahora tenemos una lista de usuarios ordenada de mayor a menor atendiendo a los usuarios que tienen mayor cantidad de amigos.\n",
    "Analicemos el codigo:\n",
    "\n",
    "La primera línea es una manera rápida y práctica de crear una lista, lo que estamos haciendo es un recorrido por la lista de usuarios y extrayendo de ellos su id y obtieniendo la cantidad de amigos que tiene a traves de la función <code>number_of_friends</code>, estos datos se van agegando automaticamente a la lista que queremos crear. Una vez tenemos la lista lo que hacemos es ordenarla de mayor a menor teniendo en cuenta la cantidad de amigos de cada usuario, para esto utilizamos la función <code>sorted</code> a la cual pasamos como parámetros la lista que queremos ordenar y una \"función anónima\" (lambda es la palabra clave que se utiliza en Python para crear funciones anónimas, que son funciones que no tienen un identificador definido y se utiliza para pasar funciones como parámetros a otras funciones) que nos devolverá el valor que utilizaremos para comparar los elementos y ordenarlos, en este caso cada usuario es pasado como argumento a la función que hemos creado la cual nos devuelve la segunda propiedad de cada usuario, recordemos de user es (id, number_of_friends) -> (elemento 0, elemento 1), por tanto la propiedad 1 (en realidad es la segunda) nos devuelve la cantidad de amigos que tiene el usuario. Y finalmente el parametro reverse lo que hace es ordenar la lista de manera inversa o sea de mayo a menor, que es el objetivo que queremos lograr."
   ]
  },
  {
   "cell_type": "markdown",
   "metadata": {},
   "source": [
    "Un modo de pensar en lo que hemos hecho es verlo como una manera de identificar a las personas que se encuentran en el centro de la red.\n",
    "Estadísticamente hablando hemos calculado: promedio de conexiones y moda, lo cual es reconocido en la estadística como medidas de tendencia central.Y exactamente eso hemos calculado, las medidas de tendecia central de la red.\n",
    "\n",
    "<img align=\"center\" style=\"padding:10px;\" src=\"img/fig1.2.png\">"
   ]
  },
  {
   "cell_type": "markdown",
   "metadata": {},
   "source": [
    "Esto tiene la virtud de ser muy fácil de calcular, pero no siempre da los resultados que queremos o esperamos. Por ejemplo en el grafo podemos ver que Thor con el id 4 solo tiene dos conexiones mientras Dunn con id 1 tiene tres. Sin embargo, mirando la red ituitivamente podemos ver que Thor debe ser más central. Más adelante investigaremos las redes con más detalles y vamos a ver nociones más complejas de centralidad que pueden o no concordar mejor con nuestra intuición."
   ]
  }
 ],
 "metadata": {
  "kernelspec": {
   "display_name": "Python 3",
   "language": "python",
   "name": "python3"
  },
  "language_info": {
   "codemirror_mode": {
    "name": "ipython",
    "version": 3
   },
   "file_extension": ".py",
   "mimetype": "text/x-python",
   "name": "python",
   "nbconvert_exporter": "python",
   "pygments_lexer": "ipython3",
   "version": "3.5.2"
  }
 },
 "nbformat": 4,
 "nbformat_minor": 2
}
