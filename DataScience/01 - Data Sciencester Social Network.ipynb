{
 "cells": [
  {
   "cell_type": "markdown",
   "metadata": {},
   "source": [
    "## EJEMPLO HIPOTETICO: DATASCIENCESTER\n",
    "\n",
    "<b>DataSciencester</b> es una red social para cientificos de datos y usted ha sido contratado para trabajar en ella. A pesar de que DataSciencester es para cientificos de datos, esta red nunca a invertido esfuerzos en la investigacion de sus propios datos.\n",
    "\n",
    "Ese sera tu trabajo! Vamos a aprender acerca de los conceptos de ciencias de datos mediante la resolución de los problemas que encuentre en el trabajo. A veces vamos a ver datos suministrados por los usuarios de forma explícita, a veces vamos a ver los datos generados a través de sus interacciones con el sitio, ya veces incluso vamos a mirar los datos de los experimentos que diseñaremos.\n",
    "\n",
    "Vamos a construir nuestras propias herramientas desde cero. Al final, tendrá un conocimiento muy sólido de los fundamentos de la ciencia de datos. Y usted estará listo para aplicar sus habilidades en una empresa con una premisa menos inestable, o para cualquier otro problema que sea de su interés."
   ]
  },
  {
   "cell_type": "markdown",
   "metadata": {},
   "source": [
    "### BUSCANDO CONECTORES CLAVES\n",
    "\n",
    "Es tu primer día de trabajo en DataSciencester, y el vicepresidente de Redes está lleno de preguntas acerca de sus usuarios. Hasta ahora han tenido a nadie a quien preguntar, así que estan muy emocionados de tenerte con ellos.\n",
    "\n",
    "En particular, quieren que identifiques quiénes son los <b>conectores clave</b> los científicos de datos. Para lograr este fin, se te entrega un volcado de toda la red DataSciencester. (En la vida real, la gente no suele entregar los datos que se necesitan. Mas adelante dedicaremos tiempo a la extraccion de datos).\n",
    "\n",
    "El volcado de datos consiste en una lista de usuarios, cada uno representado por un diccionario que contiene para cada usuario su numero de identidad y nombre:"
   ]
  },
  {
   "cell_type": "code",
   "execution_count": 1,
   "metadata": {},
   "outputs": [],
   "source": [
    "# Usuarios\n",
    "\n",
    "users = [\n",
    "    {\"id\": 0, \"name\": \"Hero\"},\n",
    "    {\"id\": 1, \"name\": \"Dunn\"},\n",
    "    {\"id\": 2, \"name\": \"Sue\"},\n",
    "    {\"id\": 3, \"name\": \"Chi\"},\n",
    "    {\"id\": 4, \"name\": \"Thor\"},\n",
    "    {\"id\": 5, \"name\": \"Clive\"},\n",
    "    {\"id\": 6, \"name\": \"Hicks\"},\n",
    "    {\"id\": 7, \"name\": \"Devin\"},\n",
    "    {\"id\": 8, \"name\": \"Kate\"},\n",
    "    {\"id\": 9, \"name\": \"Klein\"},\n",
    "]"
   ]
  },
  {
   "cell_type": "markdown",
   "metadata": {},
   "source": [
    "También te dan los datos de “relaciones de amistad”, representados como una lista de pares de identificadores:"
   ]
  },
  {
   "cell_type": "code",
   "execution_count": 2,
   "metadata": {},
   "outputs": [],
   "source": [
    "# Friendships\n",
    "\n",
    "friendships = [(0, 1), (0, 2), (1, 2), (1, 3), (2, 3), (3, 4),\n",
    "               (4, 5), (5, 6), (5, 7), (6, 8), (7, 8), (8, 9)]"
   ]
  },
  {
   "cell_type": "markdown",
   "metadata": {},
   "source": [
    "La red formada se ilustra en la figura:\n",
    "\n",
    "<img align=\"center\" style=\"padding:10px;\" src=\"img/fig1.1.png\">"
   ]
  }
 ],
 "metadata": {
  "kernelspec": {
   "display_name": "Python 3",
   "language": "python",
   "name": "python3"
  },
  "language_info": {
   "codemirror_mode": {
    "name": "ipython",
    "version": 3
   },
   "file_extension": ".py",
   "mimetype": "text/x-python",
   "name": "python",
   "nbconvert_exporter": "python",
   "pygments_lexer": "ipython3",
   "version": "3.7.1"
  }
 },
 "nbformat": 4,
 "nbformat_minor": 2
}
