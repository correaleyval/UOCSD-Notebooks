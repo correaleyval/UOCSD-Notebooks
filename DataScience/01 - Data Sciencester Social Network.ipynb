{
 "cells": [
  {
   "cell_type": "markdown",
   "metadata": {},
   "source": [
    "## EJEMPLO HIPOTETICO: DATASCIENCESTER\n",
    "\n",
    "<b>DataSciencester</b> es una red social para cientificos de datos y usted ha sido contratado para trabajar en ella. A pesar de que DataSciencester es para cientificos de datos, esta red nunca a invertido esfuerzos en la investigacion de sus propios datos.\n",
    "\n",
    "Ese sera tu trabajo! Vamos a aprender acerca de los conceptos de ciencias de datos mediante la resolución de los problemas que encuentre en el trabajo. A veces vamos a ver datos suministrados por los usuarios de forma explícita, a veces vamos a ver los datos generados a través de sus interacciones con el sitio, ya veces incluso vamos a mirar los datos de los experimentos que diseñaremos.\n",
    "\n",
    "Vamos a construir nuestras propias herramientas desde cero. Al final, tendrá un conocimiento muy sólido de los fundamentos de la ciencia de datos. Y usted estará listo para aplicar sus habilidades en una empresa con una premisa menos inestable, o para cualquier otro problema que sea de su interés."
   ]
  },
  {
   "cell_type": "markdown",
   "metadata": {},
   "source": [
    "### BUSCANDO CONECTORES CLAVES\n",
    "\n",
    "Es tu primer día de trabajo en DataSciencester, y el vicepresidente de Redes está lleno de preguntas acerca de sus usuarios. Hasta ahora han tenido a nadie a quien preguntar, así que estan muy emocionados de tenerte con ellos.\n",
    "\n",
    "En particular, quieren que identifiques quiénes son los <b>conectores clave</b> los científicos de datos. Para lograr este fin, se te entrega un volcado de toda la red DataSciencester. (En la vida real, la gente no suele entregar los datos que se necesitan. Mas adelante dedicaremos tiempo a la extraccion de datos).\n",
    "\n",
    "El volcado de datos consiste en una lista de usuarios, cada uno representado por un diccionario que contiene para cada usuario su numero de identidad y nombre:"
   ]
  },
  {
   "cell_type": "code",
   "execution_count": 2,
   "metadata": {},
   "outputs": [],
   "source": [
    "# Usuarios\n",
    "\n",
    "users = [\n",
    "    {\"id\": 0, \"name\": \"Hero\"},\n",
    "    {\"id\": 1, \"name\": \"Dunn\"},\n",
    "    {\"id\": 2, \"name\": \"Sue\"},\n",
    "    {\"id\": 3, \"name\": \"Chi\"},\n",
    "    {\"id\": 4, \"name\": \"Thor\"},\n",
    "    {\"id\": 5, \"name\": \"Clive\"},\n",
    "    {\"id\": 6, \"name\": \"Hicks\"},\n",
    "    {\"id\": 7, \"name\": \"Devin\"},\n",
    "    {\"id\": 8, \"name\": \"Kate\"},\n",
    "    {\"id\": 9, \"name\": \"Klein\"},\n",
    "]"
   ]
  },
  {
   "cell_type": "markdown",
   "metadata": {},
   "source": [
    "También te dan los datos de “relaciones de amistad”, representados como una lista de pares de identificadores:"
   ]
  },
  {
   "cell_type": "code",
   "execution_count": 3,
   "metadata": {},
   "outputs": [],
   "source": [
    "# Friendships\n",
    "\n",
    "friendships = [(0, 1), (0, 2), (1, 2), (1, 3), (2, 3), (3, 4),\n",
    "               (4, 5), (5, 6), (5, 7), (6, 8), (7, 8), (8, 9)]"
   ]
  },
  {
   "cell_type": "markdown",
   "metadata": {},
   "source": [
    "La red formada se ilustra en la figura:\n",
    "\n",
    "<img align=\"center\" style=\"padding:10px;\" src=\"img/fig1.1.png\">"
   ]
  },
  {
   "cell_type": "markdown",
   "metadata": {},
   "source": [
    "Dado que hemos representado nuestros usuarios como un diccionario es fácil obtener datos adicionales.\n",
    "\n",
    "Por ejemplo es posible que desee agragar una lista de amigos para cada usuario. Primero establecemos la propiedad <b>friends</b> para cada usuario como una lista vacía."
   ]
  },
  {
   "cell_type": "code",
   "execution_count": 6,
   "metadata": {},
   "outputs": [],
   "source": [
    "for user in users:        # para cada user en users\n",
    "    user[\"friends\"] = []  # crear propiedad friends como una lista vacía"
   ]
  },
  {
   "cell_type": "markdown",
   "metadata": {},
   "source": [
    "Analicemos este código:\n",
    "\n",
    "<code>users</code> es una lista de usuarios, y cada usuario es un diccionario, un diccionario en python es una estructura que permite representar datos como un conjunto de pares (clave, valor). En nuestro caso cada usuario tiene una clave o propiedad <b>id</b> y una propiedad <b>name</b>\n",
    "\n",
    "Lo que estamos haciendo con este fragmento de código es recorrer la lista de usuarios y a cada usuario establecerle una nueva propiedad llamada <b>friends</b>, que será inicialmente una lista vacía."
   ]
  },
  {
   "cell_type": "markdown",
   "metadata": {},
   "source": [
    "Ahora rellenamos las listas de amigos utilizando los datos que tenemos en <code>friendships</code>"
   ]
  },
  {
   "cell_type": "code",
   "execution_count": 10,
   "metadata": {},
   "outputs": [],
   "source": [
    "for i, j in friendships:\n",
    "    # users[i] es el usuario que su id es i\n",
    "    users[i][\"friends\"].append(users[j]) # agregar j como amigo de i\n",
    "    users[j][\"friends\"].append(users[i])  # agregar i como amigo de j"
   ]
  },
  {
   "cell_type": "markdown",
   "metadata": {},
   "source": [
    "Análisis del codigo:\n",
    "\n",
    "<code>friendships</code> es una lista que contiene elementos de este tipo (a, b), donde a y b son identificadores de los usuarios que se encuentran en la lista <code>users</code>. Lo que estamos haciendo con la primera línea es obtener los identificadores de cada uno de los elementos almacenados en <code>friendships</code>, estos identificadores (id) son almacenados en la variables i, j respectivamente. Recordemos que cada elemento de la lista <code>friendships</code> contiene dos identificadores. Entonce que representa esto? Esto representa que los usuarios con identificador <i>i</i> e identificador <i>j</i> son amigos. Lo que sucede en este ejemplo es que el identificador de cada usuario coincide con el indice del usuario en la lista <code>users</code> por tanto aprovechamos esto para hacer referencia al usuario. Finalmente agregamos a <i>j</i> a la lista de amigos de <i>i</i> y viceversa, porque las relaciones de amistad son bidireccionales (en la vida real no siempre es así, pero estamos hablando a nivel de relaciones matemáticas, ;-))."
   ]
  },
  {
   "cell_type": "markdown",
   "metadata": {},
   "source": [
    "Una vez que cada uno de nuestros usuarios contiene una lista de amigos podemos hacer facilmente preguntas a nuestro gráfico como por ejemplo: cuál es el número promedio de conexiones?\n",
    "\n",
    "Primero podemos encontrar el número total de conexiones realizando la suma de las longitudes de todas las listas de amigos."
   ]
  },
  {
   "cell_type": "code",
   "execution_count": 12,
   "metadata": {},
   "outputs": [
    {
     "name": "stdout",
     "output_type": "stream",
     "text": [
      "49\n"
     ]
    }
   ],
   "source": [
    "def number_of_friends(user):\n",
    "    \"\"\"cuántos usuarios tiene _user_?\"\"\"\n",
    "    return len(user[\"friends\"])\n",
    "\n",
    "total_connections = sum(number_of_friends(user) for user in users)\n",
    "\n",
    "print(total_connections)"
   ]
  },
  {
   "cell_type": "markdown",
   "metadata": {},
   "source": [
    "Obtenemos un total de 49 conexiones. La función <code>sum</code> en este caso lo que hace es aplicar la función <code>number_of_friends</code> para cada uno de los elementos que recorre el ciclo <code>for</code> de esta manera obtenemos el total de amigos que tiene cada usuario y sumamos los valores que va devolviendo la función <code>number_of_friends</code>."
   ]
  }
 ],
 "metadata": {
  "kernelspec": {
   "display_name": "Python 3",
   "language": "python",
   "name": "python3"
  },
  "language_info": {
   "codemirror_mode": {
    "name": "ipython",
    "version": 3
   },
   "file_extension": ".py",
   "mimetype": "text/x-python",
   "name": "python",
   "nbconvert_exporter": "python",
   "pygments_lexer": "ipython3",
   "version": "3.5.2"
  }
 },
 "nbformat": 4,
 "nbformat_minor": 2
}
