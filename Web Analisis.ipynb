{
 "cells": [
  {
   "cell_type": "markdown",
   "metadata": {},
   "source": [
    "# Web Analisis\n",
    "\n",
    "El objetivo de este ejemplo es mostrar como se puede hacer analisis del contenido de una web. Para ello se ha tomado como ejemplo extraer las principales noticias mostradas en el sitio web de [Cubadebate](http://www.cubadebate.cu/)"
   ]
  },
  {
   "cell_type": "markdown",
   "metadata": {},
   "source": [
    "## Paso 1 (Estraer la informacion de la web)"
   ]
  },
  {
   "cell_type": "code",
   "execution_count": 35,
   "metadata": {},
   "outputs": [],
   "source": [
    "import requests\n",
    "\n",
    "from bs4 import BeautifulSoup"
   ]
  },
  {
   "cell_type": "code",
   "execution_count": 40,
   "metadata": {
    "scrolled": false
   },
   "outputs": [
    {
     "name": "stdout",
     "output_type": "stream",
     "text": [
      "['El Gobierno de Venezuela repudió este domingo la “actitud desafiante” de la Unión Europea (UE) de otorgar un plazo para la convocatoria de nuevas elecciones, situación que demuestra su respaldo al golpe de Estado que, amparado por el gobierno de Estados Unidos (EEUU), se ejecuta en la nación sudamericana.', 'A las 4:00 pm (hora de Cuba), CubadebateTV transmitirá a través de la página de Facebook de Cubadebate su nueva emisión del Noticiero \"Desde Cuba\", el cual estará disponible posteriormente en las plataformas PICTA y Youtube.', 'El Planetario de Shanghai es un planetario que se abrirá en 2020, en la ciudad nueva de Lingang, distrito de la zona nueva de Pudong, Shanghai. Su cúpula abarca 38.000 metros cuadrados. Cuando esté abierto, será el planetario más grande del mundo.', 'El rosarino volvió a la titularidad tras dos partidos e hizo un golazo para que su equipo se impusiera\\xa0por 2-0 como visitante. Con la victoria, el conjunto catalán volvió a estirar a cinco puntos la ventaja sobre el Atlético de Madrid.', 'Se trata de un homenaje al Benny que es al mismo tiempo un abrazo de generaciones, pues Omara es la voz líder y cuenta con el respaldo de los jóvenes de la Orquesta Failde. Los arreglos también fueron encargados a una nueva generación de músicos matanceros de alta valía como Alejandro Falcón, José Antonio Gonzalez Font y Roniel Alfonso.', 'El grupo estadounidense de música pop Backstreet Boys publicó su más reciente disco DNA, tras seis años sin presentar ningún fonograma nuevo. Según explicó la agrupación en su perfil en la red social Facebook, el álbum explora los elementos de su carrera, de 25 años, sobre todo los que fueron los pilares de la banda.', 'La alta comisionada de la ONU para los Derechos Humanos, Michele Bachelet, ha pedido a la sociedad civil que se una contra la \"normalización del odio\" que está predominando en últimos años \"con el respaldo de líderes nacionales\".', 'La economía estadounidense sufrió pérdidas de al menos de 6.000 millones de dólares, durante el cierre del Gobierno más largo de la historia del país que se vivió hasta hace unos días, según los cálculos de S&P Global Ratings,\\xa0informa\\xa0CBS News.', 'El Papa Francisco reconoció este sábado durante una misa en Panamá, que la Iglesia Católica está “herida por su pecado”, en momentos en que la institución religiosa se encuentra sumida en un torrente de escándalos de abusos sexuales.', 'El bloqueo de Leningrado, como era el nombre de San Petersburgo durante la época soviética, duró 872 días, del 8 de septiembre de 1941 al 27 de enero de 1944, y según distintas estimaciones, se cobró la vida de entre 600.000 y 1,5 millones de habitantes. Más del 90 % de ellos murieron de hambre.', 'Son 1,7 millones los\\xa0votantes\\xa0convocados a las urnas -militantes de los nueve partidos que existen en el país- para decidir sobre la continuidad o revocación del actual presidente\\xa0Evo Morales, su vicepresidente Álvaro García Linera, y ocho de los nueve prefectos (gobernadores) del país, seis de ellos opositores.']\n"
     ]
    }
   ],
   "source": [
    "url = 'http://www.cubadebate.cu/'\n",
    "\n",
    "page = requests.get(url).text # extraer archivo html de la web\n",
    "\n",
    "soup = BeautifulSoup(page, \"lxml\") # Usar herramienta BeutifulSoup para hacer busquedas en la web\n",
    "\n",
    "soup = soup.find_all(True, {'class': 'noticias'}) # Buscar noticias en la web\n",
    "\n",
    "noticias = []\n",
    "\n",
    "for i in range(0,len(soup)-1):\n",
    "    noti = soup[i].find(\"p\").text # Extraer titular de la noticia sin etiquetas HTML\n",
    "    noticias.append(noti)\n",
    "\n",
    "# Las principales noticias estan guardadas en la lista de noticias\n",
    "print(noticias)"
   ]
  },
  {
   "cell_type": "markdown",
   "metadata": {},
   "source": [
    "## Paso 2 (Analizar informacion)"
   ]
  },
  {
   "cell_type": "code",
   "execution_count": null,
   "metadata": {},
   "outputs": [],
   "source": []
  }
 ],
 "metadata": {
  "kernelspec": {
   "display_name": "Python 3",
   "language": "python",
   "name": "python3"
  }
 },
 "nbformat": 4,
 "nbformat_minor": 2
}
