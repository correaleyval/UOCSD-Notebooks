{
 "cells": [
  {
   "cell_type": "markdown",
   "metadata": {},
   "source": [
    "# Estadística Descriptiva"
   ]
  },
  {
   "cell_type": "markdown",
   "metadata": {},
   "source": [
    "## Estadígrafos\n",
    "\n",
    "#### a) Medidas de tendencia central:"
   ]
  },
  {
   "cell_type": "markdown",
   "metadata": {},
   "source": [
    "#### Media: $\\bar{x} = {1 \\over n} \\sum_{i=1}^n{x_i}$ (El promedio)"
   ]
  },
  {
   "cell_type": "markdown",
   "metadata": {},
   "source": [
    "#### Moda: El valor que más se repite"
   ]
  },
  {
   "cell_type": "markdown",
   "metadata": {},
   "source": [
    "#### Mediana: representa el valor de la variable de posición central en un conjunto de datos ordenados. \n",
    "\n",
    "Cálculo de la mediana:\n",
    "\n",
    "1- Ordenamos los datos de menor a mayor.\n",
    "\n",
    "2- Si la serie tiene un número impar de medidas la mediana es la puntuación central.\n",
    "\n",
    "2, 3, 4, 4, 5, 5, 5, 6, 6 Mediana = 5\n",
    "\n",
    "3- Si la serie tiene un número par de puntuaciones la mediana es la media entre las dos puntuaciones centrales.\n",
    "\n",
    "7, 8, 9, 10, 11, 12 Me = 9,5\n",
    "\n",
    "Existen dos métodos para el cálculo de la mediana:\n",
    "\n",
    "1. Considerando los datos en forma individual, sin agruparlos.\n",
    "2. Utilizando los datos agrupados en intervalos de clase.\n",
    "    \n",
    "#### Datos sin agrupar\n",
    "\n",
    "Sean $x_1 , x_2 , x_3 , … , x_n$ Los datos de una muestra ordenada en orden creciente y designando la mediana como $M_e$ distinguimos dos casos: \n",
    "\n",
    "a) Si $n$ es impar, la mediana es el valor que ocupa la posición $$ {( n + 1 )}\\over{2}$$ una vez que los datos han sido ordenados (en orden creciente o decreciente), porque éste es el valor central. Es decir: $$M_e = x_{( n + 1 ) \\over 2}$$\n",
    "\n",
    "b) Si $n$ es par, la mediana es la media aritmética de los dos valores centrales. Cuando $n$ es par, los dos datos que están en el centro de la muestra ocupan las posiciones $n \\over 2$ y $\\left( n \\over{2} \\right) + 1$. Es decir: $${M_e} = {{\\left( x_{n\\over2} + x_{{n\\over 2} + 1 }\\right)} \\over 2}$$"
   ]
  }
 ],
 "metadata": {
  "kernelspec": {
   "display_name": "Python 3",
   "language": "python",
   "name": "python3"
  },
  "language_info": {
   "codemirror_mode": {
    "name": "ipython",
    "version": 3
   },
   "file_extension": ".py",
   "mimetype": "text/x-python",
   "name": "python",
   "nbconvert_exporter": "python",
   "pygments_lexer": "ipython3",
   "version": "3.5.2"
  }
 },
 "nbformat": 4,
 "nbformat_minor": 2
}
